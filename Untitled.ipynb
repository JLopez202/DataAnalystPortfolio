{
 "cells": [
  {
   "cell_type": "code",
   "execution_count": 2,
   "id": "952e4d51",
   "metadata": {},
   "outputs": [],
   "source": [
    "import pandas as pd\n",
    "import numpy as np\n",
    "import matplotlib.pyplot as plt\n",
    "import seaborn as sns\n",
    "from encodings.aliases import aliases\n",
    "\n",
    "%matplotlib inline "
   ]
  },
  {
   "cell_type": "markdown",
   "id": "c2bd0212",
   "metadata": {},
   "source": [
    "# Read in the CSV files"
   ]
  },
  {
   "cell_type": "code",
   "execution_count": 3,
   "id": "74c886cd",
   "metadata": {},
   "outputs": [
    {
     "name": "stdout",
     "output_type": "stream",
     "text": [
      "{'cp850', 'bz2_codec', 'cp1257', 'cp1251', 'rot_13', 'cp1258', 'cp1253', 'utf_8', 'cp1125', 'cp500', 'iso8859_11', 'iso8859_4', 'iso8859_5', 'base64_codec', 'kz1048', 'iso8859_9', 'cp857', 'euc_kr', 'shift_jis_2004', 'cp862', 'cp273', 'big5', 'cp861', 'hz', 'iso8859_15', 'shift_jis', 'iso8859_2', 'cp860', 'iso8859_6', 'cp863', 'cp865', 'shift_jisx0213', 'cp1250', 'ascii', 'iso2022_jp_2', 'cp1254', 'cp855', 'ptcp154', 'hp_roman8', 'cp1140', 'mac_turkish', 'quopri_codec', 'uu_codec', 'hex_codec', 'iso2022_jp_3', 'zlib_codec', 'utf_32', 'tis_620', 'utf_7', 'koi8_r', 'cp424', 'utf_16', 'euc_jp', 'mbcs', 'iso2022_jp_2004', 'iso2022_jp_1', 'cp037', 'euc_jisx0213', 'iso8859_3', 'johab', 'mac_cyrillic', 'latin_1', 'utf_32_le', 'iso8859_10', 'cp1026', 'gbk', 'cp932', 'iso2022_kr', 'iso2022_jp_ext', 'cp775', 'gb18030', 'cp866', 'mac_latin2', 'iso8859_7', 'iso8859_8', 'cp950', 'utf_16_le', 'mac_roman', 'mac_greek', 'cp852', 'cp869', 'utf_32_be', 'cp437', 'mac_iceland', 'iso8859_14', 'euc_jis_2004', 'cp864', 'iso8859_16', 'cp1256', 'cp1255', 'utf_16_be', 'big5hkscs', 'iso2022_jp', 'cp1252', 'cp858', 'iso8859_13', 'gb2312', 'cp949'}\n",
      "successful cp850\n",
      "successful cp1257\n",
      "successful cp1251\n",
      "successful cp1258\n",
      "successful cp1253\n",
      "successful cp1125\n",
      "successful cp500\n",
      "successful iso8859_11\n",
      "successful iso8859_4\n",
      "successful iso8859_5\n",
      "successful kz1048\n",
      "successful iso8859_9\n",
      "successful cp857\n",
      "successful cp862\n",
      "successful cp273\n",
      "successful cp861\n",
      "successful iso8859_15\n",
      "successful iso8859_2\n",
      "successful cp860\n",
      "successful iso8859_6\n",
      "successful cp863\n",
      "successful cp865\n",
      "successful cp1250\n",
      "successful cp1254\n",
      "successful cp855\n",
      "successful ptcp154\n",
      "successful hp_roman8\n",
      "successful cp1140\n",
      "successful mac_turkish\n",
      "successful koi8_r\n",
      "successful cp037\n",
      "successful iso8859_3\n",
      "successful mac_cyrillic\n",
      "successful latin_1\n",
      "successful iso8859_10\n",
      "successful cp1026\n",
      "successful gbk\n",
      "successful cp932\n",
      "successful cp775\n",
      "successful gb18030\n",
      "successful cp866\n",
      "successful mac_latin2\n",
      "successful iso8859_7\n",
      "successful iso8859_8\n",
      "successful utf_16_le\n",
      "successful mac_roman\n",
      "successful mac_greek\n",
      "successful cp852\n",
      "successful cp869\n",
      "successful cp437\n",
      "successful mac_iceland\n",
      "successful iso8859_14\n",
      "successful cp864\n",
      "successful iso8859_16\n",
      "successful cp1256\n",
      "successful cp1255\n",
      "successful utf_16_be\n",
      "successful big5hkscs\n",
      "successful cp1252\n",
      "successful cp858\n",
      "successful iso8859_13\n",
      "successful cp949\n"
     ]
    }
   ],
   "source": [
    "# Find encodings that work\n",
    "# Below line creates a set of all available encodings\n",
    "alias_values = set(aliases.values())\n",
    "print(alias_values)\n",
    "\n",
    "# Loop for list of encodings that work, picked the last one.\n",
    "\n",
    "for encoding in set(aliases.values()):\n",
    "    try:\n",
    "        df=pd.read_csv(\"crime.csv\", nrows=10, encoding=encoding)\n",
    "        print('successful', encoding)\n",
    "    except:\n",
    "        pass"
   ]
  },
  {
   "cell_type": "code",
   "execution_count": 4,
   "id": "9a34a646",
   "metadata": {
    "scrolled": true
   },
   "outputs": [],
   "source": [
    "## Read in the crime file \n",
    "crime = pd.read_csv(\"crime.csv\", encoding='cp852')"
   ]
  },
  {
   "cell_type": "markdown",
   "id": "568ca113",
   "metadata": {},
   "source": [
    "# Explore and clean the dataset"
   ]
  },
  {
   "cell_type": "code",
   "execution_count": 5,
   "id": "2ed96235",
   "metadata": {},
   "outputs": [
    {
     "data": {
      "text/html": [
       "<div>\n",
       "<style scoped>\n",
       "    .dataframe tbody tr th:only-of-type {\n",
       "        vertical-align: middle;\n",
       "    }\n",
       "\n",
       "    .dataframe tbody tr th {\n",
       "        vertical-align: top;\n",
       "    }\n",
       "\n",
       "    .dataframe thead th {\n",
       "        text-align: right;\n",
       "    }\n",
       "</style>\n",
       "<table border=\"1\" class=\"dataframe\">\n",
       "  <thead>\n",
       "    <tr style=\"text-align: right;\">\n",
       "      <th></th>\n",
       "      <th>INCIDENT_NUMBER</th>\n",
       "      <th>OFFENSE_CODE</th>\n",
       "      <th>OFFENSE_CODE_GROUP</th>\n",
       "      <th>OFFENSE_DESCRIPTION</th>\n",
       "      <th>DISTRICT</th>\n",
       "      <th>REPORTING_AREA</th>\n",
       "      <th>SHOOTING</th>\n",
       "      <th>OCCURRED_ON_DATE</th>\n",
       "      <th>YEAR</th>\n",
       "      <th>MONTH</th>\n",
       "      <th>DAY_OF_WEEK</th>\n",
       "      <th>HOUR</th>\n",
       "      <th>UCR_PART</th>\n",
       "      <th>STREET</th>\n",
       "      <th>Lat</th>\n",
       "      <th>Long</th>\n",
       "      <th>Location</th>\n",
       "    </tr>\n",
       "  </thead>\n",
       "  <tbody>\n",
       "    <tr>\n",
       "      <th>0</th>\n",
       "      <td>I182070945</td>\n",
       "      <td>619</td>\n",
       "      <td>Larceny</td>\n",
       "      <td>LARCENY ALL OTHERS</td>\n",
       "      <td>D14</td>\n",
       "      <td>808</td>\n",
       "      <td>NaN</td>\n",
       "      <td>9/2/18 13:00</td>\n",
       "      <td>2018</td>\n",
       "      <td>9</td>\n",
       "      <td>Sunday</td>\n",
       "      <td>13</td>\n",
       "      <td>Part One</td>\n",
       "      <td>LINCOLN ST</td>\n",
       "      <td>42.357791</td>\n",
       "      <td>-71.139371</td>\n",
       "      <td>(42.35779134, -71.13937053)</td>\n",
       "    </tr>\n",
       "    <tr>\n",
       "      <th>1</th>\n",
       "      <td>I182070943</td>\n",
       "      <td>1402</td>\n",
       "      <td>Vandalism</td>\n",
       "      <td>VANDALISM</td>\n",
       "      <td>C11</td>\n",
       "      <td>347</td>\n",
       "      <td>NaN</td>\n",
       "      <td>8/21/18 0:00</td>\n",
       "      <td>2018</td>\n",
       "      <td>8</td>\n",
       "      <td>Tuesday</td>\n",
       "      <td>0</td>\n",
       "      <td>Part Two</td>\n",
       "      <td>HECLA ST</td>\n",
       "      <td>42.306821</td>\n",
       "      <td>-71.060300</td>\n",
       "      <td>(42.30682138, -71.06030035)</td>\n",
       "    </tr>\n",
       "    <tr>\n",
       "      <th>2</th>\n",
       "      <td>I182070941</td>\n",
       "      <td>3410</td>\n",
       "      <td>Towed</td>\n",
       "      <td>TOWED MOTOR VEHICLE</td>\n",
       "      <td>D4</td>\n",
       "      <td>151</td>\n",
       "      <td>NaN</td>\n",
       "      <td>9/3/18 19:27</td>\n",
       "      <td>2018</td>\n",
       "      <td>9</td>\n",
       "      <td>Monday</td>\n",
       "      <td>19</td>\n",
       "      <td>Part Three</td>\n",
       "      <td>CAZENOVE ST</td>\n",
       "      <td>42.346589</td>\n",
       "      <td>-71.072429</td>\n",
       "      <td>(42.34658879, -71.07242943)</td>\n",
       "    </tr>\n",
       "    <tr>\n",
       "      <th>3</th>\n",
       "      <td>I182070940</td>\n",
       "      <td>3114</td>\n",
       "      <td>Investigate Property</td>\n",
       "      <td>INVESTIGATE PROPERTY</td>\n",
       "      <td>D4</td>\n",
       "      <td>272</td>\n",
       "      <td>NaN</td>\n",
       "      <td>9/3/18 21:16</td>\n",
       "      <td>2018</td>\n",
       "      <td>9</td>\n",
       "      <td>Monday</td>\n",
       "      <td>21</td>\n",
       "      <td>Part Three</td>\n",
       "      <td>NEWCOMB ST</td>\n",
       "      <td>42.334182</td>\n",
       "      <td>-71.078664</td>\n",
       "      <td>(42.33418175, -71.07866441)</td>\n",
       "    </tr>\n",
       "    <tr>\n",
       "      <th>4</th>\n",
       "      <td>I182070938</td>\n",
       "      <td>3114</td>\n",
       "      <td>Investigate Property</td>\n",
       "      <td>INVESTIGATE PROPERTY</td>\n",
       "      <td>B3</td>\n",
       "      <td>421</td>\n",
       "      <td>NaN</td>\n",
       "      <td>9/3/18 21:05</td>\n",
       "      <td>2018</td>\n",
       "      <td>9</td>\n",
       "      <td>Monday</td>\n",
       "      <td>21</td>\n",
       "      <td>Part Three</td>\n",
       "      <td>DELHI ST</td>\n",
       "      <td>42.275365</td>\n",
       "      <td>-71.090361</td>\n",
       "      <td>(42.27536542, -71.09036101)</td>\n",
       "    </tr>\n",
       "  </tbody>\n",
       "</table>\n",
       "</div>"
      ],
      "text/plain": [
       "  INCIDENT_NUMBER  OFFENSE_CODE    OFFENSE_CODE_GROUP   OFFENSE_DESCRIPTION  \\\n",
       "0      I182070945           619               Larceny    LARCENY ALL OTHERS   \n",
       "1      I182070943          1402             Vandalism             VANDALISM   \n",
       "2      I182070941          3410                 Towed   TOWED MOTOR VEHICLE   \n",
       "3      I182070940          3114  Investigate Property  INVESTIGATE PROPERTY   \n",
       "4      I182070938          3114  Investigate Property  INVESTIGATE PROPERTY   \n",
       "\n",
       "  DISTRICT REPORTING_AREA SHOOTING OCCURRED_ON_DATE  YEAR  MONTH DAY_OF_WEEK  \\\n",
       "0      D14            808      NaN     9/2/18 13:00  2018      9      Sunday   \n",
       "1      C11            347      NaN     8/21/18 0:00  2018      8     Tuesday   \n",
       "2       D4            151      NaN     9/3/18 19:27  2018      9      Monday   \n",
       "3       D4            272      NaN     9/3/18 21:16  2018      9      Monday   \n",
       "4       B3            421      NaN     9/3/18 21:05  2018      9      Monday   \n",
       "\n",
       "   HOUR    UCR_PART       STREET        Lat       Long  \\\n",
       "0    13    Part One   LINCOLN ST  42.357791 -71.139371   \n",
       "1     0    Part Two     HECLA ST  42.306821 -71.060300   \n",
       "2    19  Part Three  CAZENOVE ST  42.346589 -71.072429   \n",
       "3    21  Part Three   NEWCOMB ST  42.334182 -71.078664   \n",
       "4    21  Part Three     DELHI ST  42.275365 -71.090361   \n",
       "\n",
       "                      Location  \n",
       "0  (42.35779134, -71.13937053)  \n",
       "1  (42.30682138, -71.06030035)  \n",
       "2  (42.34658879, -71.07242943)  \n",
       "3  (42.33418175, -71.07866441)  \n",
       "4  (42.27536542, -71.09036101)  "
      ]
     },
     "execution_count": 5,
     "metadata": {},
     "output_type": "execute_result"
    }
   ],
   "source": [
    "## Check how the dataset looks\n",
    "crime.head()"
   ]
  },
  {
   "cell_type": "code",
   "execution_count": 6,
   "id": "a1e9ebc6",
   "metadata": {},
   "outputs": [
    {
     "data": {
      "text/plain": [
       "(319073, 17)"
      ]
     },
     "execution_count": 6,
     "metadata": {},
     "output_type": "execute_result"
    }
   ],
   "source": [
    "## Check shape of data. 319,073 rows and 17 columns\n",
    "crime.shape"
   ]
  },
  {
   "cell_type": "code",
   "execution_count": 7,
   "id": "9b10a6d7",
   "metadata": {},
   "outputs": [
    {
     "data": {
      "text/plain": [
       "23"
      ]
     },
     "execution_count": 7,
     "metadata": {},
     "output_type": "execute_result"
    }
   ],
   "source": [
    "## Count of duplicate rows\n",
    "crime.duplicated().sum()"
   ]
  },
  {
   "cell_type": "code",
   "execution_count": 8,
   "id": "02cbb3e7",
   "metadata": {},
   "outputs": [],
   "source": [
    "## Drop duplicate rows\n",
    "crime.drop_duplicates(inplace=True)"
   ]
  },
  {
   "cell_type": "code",
   "execution_count": 9,
   "id": "f708442f",
   "metadata": {},
   "outputs": [
    {
     "data": {
      "text/plain": [
       "(319050, 17)"
      ]
     },
     "execution_count": 9,
     "metadata": {},
     "output_type": "execute_result"
    }
   ],
   "source": [
    "## Check shape to see if duplicated rows are removed\n",
    "crime.shape"
   ]
  },
  {
   "cell_type": "code",
   "execution_count": 10,
   "id": "475a086d",
   "metadata": {},
   "outputs": [
    {
     "name": "stdout",
     "output_type": "stream",
     "text": [
      "<class 'pandas.core.frame.DataFrame'>\n",
      "Index: 319050 entries, 0 to 319072\n",
      "Data columns (total 17 columns):\n",
      " #   Column               Non-Null Count   Dtype  \n",
      "---  ------               --------------   -----  \n",
      " 0   INCIDENT_NUMBER      319050 non-null  object \n",
      " 1   OFFENSE_CODE         319050 non-null  int64  \n",
      " 2   OFFENSE_CODE_GROUP   319050 non-null  object \n",
      " 3   OFFENSE_DESCRIPTION  319050 non-null  object \n",
      " 4   DISTRICT             317285 non-null  object \n",
      " 5   REPORTING_AREA       319050 non-null  object \n",
      " 6   SHOOTING             1019 non-null    object \n",
      " 7   OCCURRED_ON_DATE     319050 non-null  object \n",
      " 8   YEAR                 319050 non-null  int64  \n",
      " 9   MONTH                319050 non-null  int64  \n",
      " 10  DAY_OF_WEEK          319050 non-null  object \n",
      " 11  HOUR                 319050 non-null  int64  \n",
      " 12  UCR_PART             318960 non-null  object \n",
      " 13  STREET               308179 non-null  object \n",
      " 14  Lat                  299052 non-null  float64\n",
      " 15  Long                 299052 non-null  float64\n",
      " 16  Location             319050 non-null  object \n",
      "dtypes: float64(2), int64(4), object(11)\n",
      "memory usage: 43.8+ MB\n"
     ]
    }
   ],
   "source": [
    "## Summary information of dataframe\n",
    "crime.info()"
   ]
  },
  {
   "cell_type": "code",
   "execution_count": 12,
   "id": "963cdf0c",
   "metadata": {},
   "outputs": [
    {
     "name": "stderr",
     "output_type": "stream",
     "text": [
      "/var/folders/kb/pfgsy69s7kq5k6hl946dypnr0000gn/T/ipykernel_11954/4228138044.py:2: UserWarning: Could not infer format, so each element will be parsed individually, falling back to `dateutil`. To ensure parsing is consistent and as-expected, please specify a format.\n",
      "  crime.OCCURRED_ON_DATE = pd.to_datetime(crime.OCCURRED_ON_DATE)\n"
     ]
    },
    {
     "ename": "KeyboardInterrupt",
     "evalue": "",
     "output_type": "error",
     "traceback": [
      "\u001b[0;31m---------------------------------------------------------------------------\u001b[0m",
      "\u001b[0;31mKeyboardInterrupt\u001b[0m                         Traceback (most recent call last)",
      "Cell \u001b[0;32mIn[12], line 2\u001b[0m\n\u001b[1;32m      1\u001b[0m \u001b[38;5;66;03m## Changing object datatype to datetime for OCCURRED_ON_DATE column\u001b[39;00m\n\u001b[0;32m----> 2\u001b[0m crime\u001b[38;5;241m.\u001b[39mOCCURRED_ON_DATE \u001b[38;5;241m=\u001b[39m pd\u001b[38;5;241m.\u001b[39mto_datetime(crime\u001b[38;5;241m.\u001b[39mOCCURRED_ON_DATE)\n",
      "File \u001b[0;32m~/anaconda3/lib/python3.11/site-packages/pandas/core/tools/datetimes.py:1050\u001b[0m, in \u001b[0;36mto_datetime\u001b[0;34m(arg, errors, dayfirst, yearfirst, utc, format, exact, unit, infer_datetime_format, origin, cache)\u001b[0m\n\u001b[1;32m   1048\u001b[0m         result \u001b[38;5;241m=\u001b[39m arg\u001b[38;5;241m.\u001b[39mmap(cache_array)\n\u001b[1;32m   1049\u001b[0m     \u001b[38;5;28;01melse\u001b[39;00m:\n\u001b[0;32m-> 1050\u001b[0m         values \u001b[38;5;241m=\u001b[39m convert_listlike(arg\u001b[38;5;241m.\u001b[39m_values, \u001b[38;5;28mformat\u001b[39m)\n\u001b[1;32m   1051\u001b[0m         result \u001b[38;5;241m=\u001b[39m arg\u001b[38;5;241m.\u001b[39m_constructor(values, index\u001b[38;5;241m=\u001b[39marg\u001b[38;5;241m.\u001b[39mindex, name\u001b[38;5;241m=\u001b[39marg\u001b[38;5;241m.\u001b[39mname)\n\u001b[1;32m   1052\u001b[0m \u001b[38;5;28;01melif\u001b[39;00m \u001b[38;5;28misinstance\u001b[39m(arg, (ABCDataFrame, abc\u001b[38;5;241m.\u001b[39mMutableMapping)):\n",
      "File \u001b[0;32m~/anaconda3/lib/python3.11/site-packages/pandas/core/tools/datetimes.py:455\u001b[0m, in \u001b[0;36m_convert_listlike_datetimes\u001b[0;34m(arg, format, name, utc, unit, errors, dayfirst, yearfirst, exact)\u001b[0m\n\u001b[1;32m    452\u001b[0m \u001b[38;5;28;01mif\u001b[39;00m \u001b[38;5;28mformat\u001b[39m \u001b[38;5;129;01mis\u001b[39;00m \u001b[38;5;129;01mnot\u001b[39;00m \u001b[38;5;28;01mNone\u001b[39;00m \u001b[38;5;129;01mand\u001b[39;00m \u001b[38;5;28mformat\u001b[39m \u001b[38;5;241m!=\u001b[39m \u001b[38;5;124m\"\u001b[39m\u001b[38;5;124mmixed\u001b[39m\u001b[38;5;124m\"\u001b[39m:\n\u001b[1;32m    453\u001b[0m     \u001b[38;5;28;01mreturn\u001b[39;00m _array_strptime_with_fallback(arg, name, utc, \u001b[38;5;28mformat\u001b[39m, exact, errors)\n\u001b[0;32m--> 455\u001b[0m result, tz_parsed \u001b[38;5;241m=\u001b[39m objects_to_datetime64ns(\n\u001b[1;32m    456\u001b[0m     arg,\n\u001b[1;32m    457\u001b[0m     dayfirst\u001b[38;5;241m=\u001b[39mdayfirst,\n\u001b[1;32m    458\u001b[0m     yearfirst\u001b[38;5;241m=\u001b[39myearfirst,\n\u001b[1;32m    459\u001b[0m     utc\u001b[38;5;241m=\u001b[39mutc,\n\u001b[1;32m    460\u001b[0m     errors\u001b[38;5;241m=\u001b[39merrors,\n\u001b[1;32m    461\u001b[0m     allow_object\u001b[38;5;241m=\u001b[39m\u001b[38;5;28;01mTrue\u001b[39;00m,\n\u001b[1;32m    462\u001b[0m )\n\u001b[1;32m    464\u001b[0m \u001b[38;5;28;01mif\u001b[39;00m tz_parsed \u001b[38;5;129;01mis\u001b[39;00m \u001b[38;5;129;01mnot\u001b[39;00m \u001b[38;5;28;01mNone\u001b[39;00m:\n\u001b[1;32m    465\u001b[0m     \u001b[38;5;66;03m# We can take a shortcut since the datetime64 numpy array\u001b[39;00m\n\u001b[1;32m    466\u001b[0m     \u001b[38;5;66;03m# is in UTC\u001b[39;00m\n\u001b[1;32m    467\u001b[0m     dta \u001b[38;5;241m=\u001b[39m DatetimeArray(result, dtype\u001b[38;5;241m=\u001b[39mtz_to_dtype(tz_parsed))\n",
      "File \u001b[0;32m~/anaconda3/lib/python3.11/site-packages/pandas/core/arrays/datetimes.py:2177\u001b[0m, in \u001b[0;36mobjects_to_datetime64ns\u001b[0;34m(data, dayfirst, yearfirst, utc, errors, allow_object)\u001b[0m\n\u001b[1;32m   2174\u001b[0m \u001b[38;5;66;03m# if str-dtype, convert\u001b[39;00m\n\u001b[1;32m   2175\u001b[0m data \u001b[38;5;241m=\u001b[39m np\u001b[38;5;241m.\u001b[39marray(data, copy\u001b[38;5;241m=\u001b[39m\u001b[38;5;28;01mFalse\u001b[39;00m, dtype\u001b[38;5;241m=\u001b[39mnp\u001b[38;5;241m.\u001b[39mobject_)\n\u001b[0;32m-> 2177\u001b[0m result, tz_parsed \u001b[38;5;241m=\u001b[39m tslib\u001b[38;5;241m.\u001b[39marray_to_datetime(\n\u001b[1;32m   2178\u001b[0m     data,\n\u001b[1;32m   2179\u001b[0m     errors\u001b[38;5;241m=\u001b[39merrors,\n\u001b[1;32m   2180\u001b[0m     utc\u001b[38;5;241m=\u001b[39mutc,\n\u001b[1;32m   2181\u001b[0m     dayfirst\u001b[38;5;241m=\u001b[39mdayfirst,\n\u001b[1;32m   2182\u001b[0m     yearfirst\u001b[38;5;241m=\u001b[39myearfirst,\n\u001b[1;32m   2183\u001b[0m )\n\u001b[1;32m   2185\u001b[0m \u001b[38;5;28;01mif\u001b[39;00m tz_parsed \u001b[38;5;129;01mis\u001b[39;00m \u001b[38;5;129;01mnot\u001b[39;00m \u001b[38;5;28;01mNone\u001b[39;00m:\n\u001b[1;32m   2186\u001b[0m     \u001b[38;5;66;03m# We can take a shortcut since the datetime64 numpy array\u001b[39;00m\n\u001b[1;32m   2187\u001b[0m     \u001b[38;5;66;03m#  is in UTC\u001b[39;00m\n\u001b[1;32m   2188\u001b[0m     \u001b[38;5;66;03m# Return i8 values to denote unix timestamps\u001b[39;00m\n\u001b[1;32m   2189\u001b[0m     \u001b[38;5;28;01mreturn\u001b[39;00m result\u001b[38;5;241m.\u001b[39mview(\u001b[38;5;124m\"\u001b[39m\u001b[38;5;124mi8\u001b[39m\u001b[38;5;124m\"\u001b[39m), tz_parsed\n",
      "File \u001b[0;32m~/anaconda3/lib/python3.11/site-packages/pandas/_libs/tslib.pyx:402\u001b[0m, in \u001b[0;36mpandas._libs.tslib.array_to_datetime\u001b[0;34m()\u001b[0m\n",
      "File \u001b[0;32m~/anaconda3/lib/python3.11/site-packages/pandas/_libs/tslib.pyx:516\u001b[0m, in \u001b[0;36mpandas._libs.tslib.array_to_datetime\u001b[0;34m()\u001b[0m\n",
      "File \u001b[0;32m~/anaconda3/lib/python3.11/site-packages/pandas/_libs/tslibs/conversion.pyx:557\u001b[0m, in \u001b[0;36mpandas._libs.tslibs.conversion.convert_str_to_tsobject\u001b[0;34m()\u001b[0m\n",
      "File \u001b[0;32m~/anaconda3/lib/python3.11/site-packages/pandas/_libs/tslibs/parsing.pyx:320\u001b[0m, in \u001b[0;36mpandas._libs.tslibs.parsing.parse_datetime_string\u001b[0;34m()\u001b[0m\n",
      "File \u001b[0;32m~/anaconda3/lib/python3.11/site-packages/pandas/_libs/tslibs/parsing.pyx:590\u001b[0m, in \u001b[0;36mpandas._libs.tslibs.parsing._parse_dateabbr_string\u001b[0;34m()\u001b[0m\n",
      "File \u001b[0;32m~/anaconda3/lib/python3.11/_strptime.py:568\u001b[0m, in \u001b[0;36m_strptime_datetime\u001b[0;34m(cls, data_string, format)\u001b[0m\n\u001b[1;32m    565\u001b[0m \u001b[38;5;28;01mdef\u001b[39;00m \u001b[38;5;21m_strptime_datetime\u001b[39m(\u001b[38;5;28mcls\u001b[39m, data_string, \u001b[38;5;28mformat\u001b[39m\u001b[38;5;241m=\u001b[39m\u001b[38;5;124m\"\u001b[39m\u001b[38;5;132;01m%a\u001b[39;00m\u001b[38;5;124m \u001b[39m\u001b[38;5;124m%\u001b[39m\u001b[38;5;124mb \u001b[39m\u001b[38;5;132;01m%d\u001b[39;00m\u001b[38;5;124m \u001b[39m\u001b[38;5;124m%\u001b[39m\u001b[38;5;124mH:\u001b[39m\u001b[38;5;124m%\u001b[39m\u001b[38;5;124mM:\u001b[39m\u001b[38;5;124m%\u001b[39m\u001b[38;5;124mS \u001b[39m\u001b[38;5;124m%\u001b[39m\u001b[38;5;124mY\u001b[39m\u001b[38;5;124m\"\u001b[39m):\n\u001b[1;32m    566\u001b[0m \u001b[38;5;250m    \u001b[39m\u001b[38;5;124;03m\"\"\"Return a class cls instance based on the input string and the\u001b[39;00m\n\u001b[1;32m    567\u001b[0m \u001b[38;5;124;03m    format string.\"\"\"\u001b[39;00m\n\u001b[0;32m--> 568\u001b[0m     tt, fraction, gmtoff_fraction \u001b[38;5;241m=\u001b[39m _strptime(data_string, \u001b[38;5;28mformat\u001b[39m)\n\u001b[1;32m    569\u001b[0m     tzname, gmtoff \u001b[38;5;241m=\u001b[39m tt[\u001b[38;5;241m-\u001b[39m\u001b[38;5;241m2\u001b[39m:]\n\u001b[1;32m    570\u001b[0m     args \u001b[38;5;241m=\u001b[39m tt[:\u001b[38;5;241m6\u001b[39m] \u001b[38;5;241m+\u001b[39m (fraction,)\n",
      "File \u001b[0;32m~/anaconda3/lib/python3.11/_strptime.py:322\u001b[0m, in \u001b[0;36m_strptime\u001b[0;34m(data_string, format)\u001b[0m\n\u001b[1;32m    320\u001b[0m \u001b[38;5;28;01mwith\u001b[39;00m _cache_lock:\n\u001b[1;32m    321\u001b[0m     locale_time \u001b[38;5;241m=\u001b[39m _TimeRE_cache\u001b[38;5;241m.\u001b[39mlocale_time\n\u001b[0;32m--> 322\u001b[0m     \u001b[38;5;28;01mif\u001b[39;00m (_getlang() \u001b[38;5;241m!=\u001b[39m locale_time\u001b[38;5;241m.\u001b[39mlang \u001b[38;5;129;01mor\u001b[39;00m\n\u001b[1;32m    323\u001b[0m         time\u001b[38;5;241m.\u001b[39mtzname \u001b[38;5;241m!=\u001b[39m locale_time\u001b[38;5;241m.\u001b[39mtzname \u001b[38;5;129;01mor\u001b[39;00m\n\u001b[1;32m    324\u001b[0m         time\u001b[38;5;241m.\u001b[39mdaylight \u001b[38;5;241m!=\u001b[39m locale_time\u001b[38;5;241m.\u001b[39mdaylight):\n\u001b[1;32m    325\u001b[0m         _TimeRE_cache \u001b[38;5;241m=\u001b[39m TimeRE()\n\u001b[1;32m    326\u001b[0m         _regex_cache\u001b[38;5;241m.\u001b[39mclear()\n",
      "File \u001b[0;32m~/anaconda3/lib/python3.11/_strptime.py:26\u001b[0m, in \u001b[0;36m_getlang\u001b[0;34m()\u001b[0m\n\u001b[1;32m     22\u001b[0m \u001b[38;5;28;01mfrom\u001b[39;00m \u001b[38;5;21;01m_thread\u001b[39;00m \u001b[38;5;28;01mimport\u001b[39;00m allocate_lock \u001b[38;5;28;01mas\u001b[39;00m _thread_allocate_lock\n\u001b[1;32m     24\u001b[0m __all__ \u001b[38;5;241m=\u001b[39m []\n\u001b[0;32m---> 26\u001b[0m \u001b[38;5;28;01mdef\u001b[39;00m \u001b[38;5;21m_getlang\u001b[39m():\n\u001b[1;32m     27\u001b[0m     \u001b[38;5;66;03m# Figure out what the current language is set to.\u001b[39;00m\n\u001b[1;32m     28\u001b[0m     \u001b[38;5;28;01mreturn\u001b[39;00m locale\u001b[38;5;241m.\u001b[39mgetlocale(locale\u001b[38;5;241m.\u001b[39mLC_TIME)\n\u001b[1;32m     30\u001b[0m \u001b[38;5;28;01mclass\u001b[39;00m \u001b[38;5;21;01mLocaleTime\u001b[39;00m(\u001b[38;5;28mobject\u001b[39m):\n",
      "\u001b[0;31mKeyboardInterrupt\u001b[0m: "
     ]
    }
   ],
   "source": [
    "## Changing object datatype to datetime for OCCURRED_ON_DATE column\n",
    "crime.OCCURRED_ON_DATE = pd.to_datetime(crime.OCCURRED_ON_DATE)"
   ]
  },
  {
   "cell_type": "code",
   "execution_count": null,
   "id": "dae93594",
   "metadata": {},
   "outputs": [],
   "source": [
    "## Check if it worked\n",
    "crime.info()"
   ]
  },
  {
   "cell_type": "code",
   "execution_count": 13,
   "id": "5727580e",
   "metadata": {},
   "outputs": [
    {
     "ename": "AttributeError",
     "evalue": "Can only use .dt accessor with datetimelike values",
     "output_type": "error",
     "traceback": [
      "\u001b[0;31m---------------------------------------------------------------------------\u001b[0m",
      "\u001b[0;31mAttributeError\u001b[0m                            Traceback (most recent call last)",
      "Cell \u001b[0;32mIn[13], line 2\u001b[0m\n\u001b[1;32m      1\u001b[0m \u001b[38;5;66;03m## Extract year, month, day, hour, minute from the OCCURRED_ON_DATE value\u001b[39;00m\n\u001b[0;32m----> 2\u001b[0m crime\u001b[38;5;241m.\u001b[39mOCCURRED_ON_DATE\u001b[38;5;241m.\u001b[39mdt\u001b[38;5;241m.\u001b[39myear\n",
      "File \u001b[0;32m~/anaconda3/lib/python3.11/site-packages/pandas/core/generic.py:5989\u001b[0m, in \u001b[0;36mNDFrame.__getattr__\u001b[0;34m(self, name)\u001b[0m\n\u001b[1;32m   5982\u001b[0m \u001b[38;5;28;01mif\u001b[39;00m (\n\u001b[1;32m   5983\u001b[0m     name \u001b[38;5;129;01mnot\u001b[39;00m \u001b[38;5;129;01min\u001b[39;00m \u001b[38;5;28mself\u001b[39m\u001b[38;5;241m.\u001b[39m_internal_names_set\n\u001b[1;32m   5984\u001b[0m     \u001b[38;5;129;01mand\u001b[39;00m name \u001b[38;5;129;01mnot\u001b[39;00m \u001b[38;5;129;01min\u001b[39;00m \u001b[38;5;28mself\u001b[39m\u001b[38;5;241m.\u001b[39m_metadata\n\u001b[1;32m   5985\u001b[0m     \u001b[38;5;129;01mand\u001b[39;00m name \u001b[38;5;129;01mnot\u001b[39;00m \u001b[38;5;129;01min\u001b[39;00m \u001b[38;5;28mself\u001b[39m\u001b[38;5;241m.\u001b[39m_accessors\n\u001b[1;32m   5986\u001b[0m     \u001b[38;5;129;01mand\u001b[39;00m \u001b[38;5;28mself\u001b[39m\u001b[38;5;241m.\u001b[39m_info_axis\u001b[38;5;241m.\u001b[39m_can_hold_identifiers_and_holds_name(name)\n\u001b[1;32m   5987\u001b[0m ):\n\u001b[1;32m   5988\u001b[0m     \u001b[38;5;28;01mreturn\u001b[39;00m \u001b[38;5;28mself\u001b[39m[name]\n\u001b[0;32m-> 5989\u001b[0m \u001b[38;5;28;01mreturn\u001b[39;00m \u001b[38;5;28mobject\u001b[39m\u001b[38;5;241m.\u001b[39m\u001b[38;5;21m__getattribute__\u001b[39m(\u001b[38;5;28mself\u001b[39m, name)\n",
      "File \u001b[0;32m~/anaconda3/lib/python3.11/site-packages/pandas/core/accessor.py:224\u001b[0m, in \u001b[0;36mCachedAccessor.__get__\u001b[0;34m(self, obj, cls)\u001b[0m\n\u001b[1;32m    221\u001b[0m \u001b[38;5;28;01mif\u001b[39;00m obj \u001b[38;5;129;01mis\u001b[39;00m \u001b[38;5;28;01mNone\u001b[39;00m:\n\u001b[1;32m    222\u001b[0m     \u001b[38;5;66;03m# we're accessing the attribute of the class, i.e., Dataset.geo\u001b[39;00m\n\u001b[1;32m    223\u001b[0m     \u001b[38;5;28;01mreturn\u001b[39;00m \u001b[38;5;28mself\u001b[39m\u001b[38;5;241m.\u001b[39m_accessor\n\u001b[0;32m--> 224\u001b[0m accessor_obj \u001b[38;5;241m=\u001b[39m \u001b[38;5;28mself\u001b[39m\u001b[38;5;241m.\u001b[39m_accessor(obj)\n\u001b[1;32m    225\u001b[0m \u001b[38;5;66;03m# Replace the property with the accessor object. Inspired by:\u001b[39;00m\n\u001b[1;32m    226\u001b[0m \u001b[38;5;66;03m# https://www.pydanny.com/cached-property.html\u001b[39;00m\n\u001b[1;32m    227\u001b[0m \u001b[38;5;66;03m# We need to use object.__setattr__ because we overwrite __setattr__ on\u001b[39;00m\n\u001b[1;32m    228\u001b[0m \u001b[38;5;66;03m# NDFrame\u001b[39;00m\n\u001b[1;32m    229\u001b[0m \u001b[38;5;28mobject\u001b[39m\u001b[38;5;241m.\u001b[39m\u001b[38;5;21m__setattr__\u001b[39m(obj, \u001b[38;5;28mself\u001b[39m\u001b[38;5;241m.\u001b[39m_name, accessor_obj)\n",
      "File \u001b[0;32m~/anaconda3/lib/python3.11/site-packages/pandas/core/indexes/accessors.py:580\u001b[0m, in \u001b[0;36mCombinedDatetimelikeProperties.__new__\u001b[0;34m(cls, data)\u001b[0m\n\u001b[1;32m    577\u001b[0m \u001b[38;5;28;01melif\u001b[39;00m is_period_dtype(data\u001b[38;5;241m.\u001b[39mdtype):\n\u001b[1;32m    578\u001b[0m     \u001b[38;5;28;01mreturn\u001b[39;00m PeriodProperties(data, orig)\n\u001b[0;32m--> 580\u001b[0m \u001b[38;5;28;01mraise\u001b[39;00m \u001b[38;5;167;01mAttributeError\u001b[39;00m(\u001b[38;5;124m\"\u001b[39m\u001b[38;5;124mCan only use .dt accessor with datetimelike values\u001b[39m\u001b[38;5;124m\"\u001b[39m)\n",
      "\u001b[0;31mAttributeError\u001b[0m: Can only use .dt accessor with datetimelike values"
     ]
    }
   ],
   "source": [
    "## Extract year, month, day, hour, minute from the OCCURRED_ON_DATE value\n",
    "crime.OCCURRED_ON_DATE.dt.year"
   ]
  },
  {
   "cell_type": "code",
   "execution_count": null,
   "id": "f69746ce",
   "metadata": {
    "scrolled": true
   },
   "outputs": [],
   "source": [
    "crime.OCCURRED_ON_DATE.dt.month"
   ]
  },
  {
   "cell_type": "code",
   "execution_count": null,
   "id": "6421f941",
   "metadata": {},
   "outputs": [],
   "source": [
    "crime.OCCURRED_ON_DATE.dt.hour"
   ]
  },
  {
   "cell_type": "code",
   "execution_count": 26,
   "id": "feb51ab9",
   "metadata": {},
   "outputs": [
    {
     "data": {
      "text/plain": [
       "0          0\n",
       "1          0\n",
       "2         27\n",
       "3         16\n",
       "4          5\n",
       "          ..\n",
       "319068    25\n",
       "319069    38\n",
       "319070    38\n",
       "319071    35\n",
       "319072    12\n",
       "Name: OCCURRED_ON_DATE, Length: 319050, dtype: int32"
      ]
     },
     "execution_count": 26,
     "metadata": {},
     "output_type": "execute_result"
    }
   ],
   "source": [
    "crime.OCCURRED_ON_DATE.dt.minute"
   ]
  },
  {
   "cell_type": "code",
   "execution_count": 14,
   "id": "657306a3",
   "metadata": {},
   "outputs": [
    {
     "data": {
      "text/html": [
       "<div>\n",
       "<style scoped>\n",
       "    .dataframe tbody tr th:only-of-type {\n",
       "        vertical-align: middle;\n",
       "    }\n",
       "\n",
       "    .dataframe tbody tr th {\n",
       "        vertical-align: top;\n",
       "    }\n",
       "\n",
       "    .dataframe thead th {\n",
       "        text-align: right;\n",
       "    }\n",
       "</style>\n",
       "<table border=\"1\" class=\"dataframe\">\n",
       "  <thead>\n",
       "    <tr style=\"text-align: right;\">\n",
       "      <th></th>\n",
       "      <th>OFFENSE_CODE</th>\n",
       "      <th>YEAR</th>\n",
       "      <th>MONTH</th>\n",
       "      <th>HOUR</th>\n",
       "      <th>Lat</th>\n",
       "      <th>Long</th>\n",
       "    </tr>\n",
       "  </thead>\n",
       "  <tbody>\n",
       "    <tr>\n",
       "      <th>count</th>\n",
       "      <td>319050.000000</td>\n",
       "      <td>319050.000000</td>\n",
       "      <td>319050.000000</td>\n",
       "      <td>319050.000000</td>\n",
       "      <td>299052.000000</td>\n",
       "      <td>299052.000000</td>\n",
       "    </tr>\n",
       "    <tr>\n",
       "      <th>mean</th>\n",
       "      <td>2317.516957</td>\n",
       "      <td>2016.560674</td>\n",
       "      <td>6.609622</td>\n",
       "      <td>13.118176</td>\n",
       "      <td>42.214373</td>\n",
       "      <td>-70.908260</td>\n",
       "    </tr>\n",
       "    <tr>\n",
       "      <th>std</th>\n",
       "      <td>1185.308921</td>\n",
       "      <td>0.996312</td>\n",
       "      <td>3.273677</td>\n",
       "      <td>6.294258</td>\n",
       "      <td>2.159845</td>\n",
       "      <td>3.493746</td>\n",
       "    </tr>\n",
       "    <tr>\n",
       "      <th>min</th>\n",
       "      <td>111.000000</td>\n",
       "      <td>2015.000000</td>\n",
       "      <td>1.000000</td>\n",
       "      <td>0.000000</td>\n",
       "      <td>-1.000000</td>\n",
       "      <td>-71.178674</td>\n",
       "    </tr>\n",
       "    <tr>\n",
       "      <th>25%</th>\n",
       "      <td>1001.000000</td>\n",
       "      <td>2016.000000</td>\n",
       "      <td>4.000000</td>\n",
       "      <td>9.000000</td>\n",
       "      <td>42.297438</td>\n",
       "      <td>-71.097135</td>\n",
       "    </tr>\n",
       "    <tr>\n",
       "      <th>50%</th>\n",
       "      <td>2907.000000</td>\n",
       "      <td>2017.000000</td>\n",
       "      <td>7.000000</td>\n",
       "      <td>14.000000</td>\n",
       "      <td>42.325538</td>\n",
       "      <td>-71.077524</td>\n",
       "    </tr>\n",
       "    <tr>\n",
       "      <th>75%</th>\n",
       "      <td>3201.000000</td>\n",
       "      <td>2017.000000</td>\n",
       "      <td>9.000000</td>\n",
       "      <td>18.000000</td>\n",
       "      <td>42.348624</td>\n",
       "      <td>-71.062467</td>\n",
       "    </tr>\n",
       "    <tr>\n",
       "      <th>max</th>\n",
       "      <td>3831.000000</td>\n",
       "      <td>2018.000000</td>\n",
       "      <td>12.000000</td>\n",
       "      <td>23.000000</td>\n",
       "      <td>42.395042</td>\n",
       "      <td>-1.000000</td>\n",
       "    </tr>\n",
       "  </tbody>\n",
       "</table>\n",
       "</div>"
      ],
      "text/plain": [
       "        OFFENSE_CODE           YEAR          MONTH           HOUR  \\\n",
       "count  319050.000000  319050.000000  319050.000000  319050.000000   \n",
       "mean     2317.516957    2016.560674       6.609622      13.118176   \n",
       "std      1185.308921       0.996312       3.273677       6.294258   \n",
       "min       111.000000    2015.000000       1.000000       0.000000   \n",
       "25%      1001.000000    2016.000000       4.000000       9.000000   \n",
       "50%      2907.000000    2017.000000       7.000000      14.000000   \n",
       "75%      3201.000000    2017.000000       9.000000      18.000000   \n",
       "max      3831.000000    2018.000000      12.000000      23.000000   \n",
       "\n",
       "                 Lat           Long  \n",
       "count  299052.000000  299052.000000  \n",
       "mean       42.214373     -70.908260  \n",
       "std         2.159845       3.493746  \n",
       "min        -1.000000     -71.178674  \n",
       "25%        42.297438     -71.097135  \n",
       "50%        42.325538     -71.077524  \n",
       "75%        42.348624     -71.062467  \n",
       "max        42.395042      -1.000000  "
      ]
     },
     "execution_count": 14,
     "metadata": {},
     "output_type": "execute_result"
    }
   ],
   "source": [
    "## Summary statistics for numerical columns\n",
    "crime.describe()"
   ]
  },
  {
   "cell_type": "code",
   "execution_count": 15,
   "id": "3251c316",
   "metadata": {},
   "outputs": [
    {
     "data": {
      "text/html": [
       "<div>\n",
       "<style scoped>\n",
       "    .dataframe tbody tr th:only-of-type {\n",
       "        vertical-align: middle;\n",
       "    }\n",
       "\n",
       "    .dataframe tbody tr th {\n",
       "        vertical-align: top;\n",
       "    }\n",
       "\n",
       "    .dataframe thead th {\n",
       "        text-align: right;\n",
       "    }\n",
       "</style>\n",
       "<table border=\"1\" class=\"dataframe\">\n",
       "  <thead>\n",
       "    <tr style=\"text-align: right;\">\n",
       "      <th></th>\n",
       "      <th>INCIDENT_NUMBER</th>\n",
       "      <th>OFFENSE_CODE_GROUP</th>\n",
       "      <th>OFFENSE_DESCRIPTION</th>\n",
       "      <th>DISTRICT</th>\n",
       "      <th>REPORTING_AREA</th>\n",
       "      <th>SHOOTING</th>\n",
       "      <th>OCCURRED_ON_DATE</th>\n",
       "      <th>DAY_OF_WEEK</th>\n",
       "      <th>UCR_PART</th>\n",
       "      <th>STREET</th>\n",
       "      <th>Location</th>\n",
       "    </tr>\n",
       "  </thead>\n",
       "  <tbody>\n",
       "    <tr>\n",
       "      <th>count</th>\n",
       "      <td>319050</td>\n",
       "      <td>319050</td>\n",
       "      <td>319050</td>\n",
       "      <td>317285</td>\n",
       "      <td>319050</td>\n",
       "      <td>1019</td>\n",
       "      <td>319050</td>\n",
       "      <td>319050</td>\n",
       "      <td>318960</td>\n",
       "      <td>308179</td>\n",
       "      <td>319050</td>\n",
       "    </tr>\n",
       "    <tr>\n",
       "      <th>unique</th>\n",
       "      <td>282517</td>\n",
       "      <td>67</td>\n",
       "      <td>244</td>\n",
       "      <td>12</td>\n",
       "      <td>879</td>\n",
       "      <td>1</td>\n",
       "      <td>232566</td>\n",
       "      <td>7</td>\n",
       "      <td>4</td>\n",
       "      <td>4657</td>\n",
       "      <td>18194</td>\n",
       "    </tr>\n",
       "    <tr>\n",
       "      <th>top</th>\n",
       "      <td>I162030584</td>\n",
       "      <td>Motor Vehicle Accident Response</td>\n",
       "      <td>SICK/INJURED/MEDICAL - PERSON</td>\n",
       "      <td>B2</td>\n",
       "      <td></td>\n",
       "      <td>Y</td>\n",
       "      <td>6/1/17 0:00</td>\n",
       "      <td>Friday</td>\n",
       "      <td>Part Three</td>\n",
       "      <td>WASHINGTON ST</td>\n",
       "      <td>(0.00000000, 0.00000000)</td>\n",
       "    </tr>\n",
       "    <tr>\n",
       "      <th>freq</th>\n",
       "      <td>13</td>\n",
       "      <td>37132</td>\n",
       "      <td>18783</td>\n",
       "      <td>49940</td>\n",
       "      <td>20250</td>\n",
       "      <td>1019</td>\n",
       "      <td>29</td>\n",
       "      <td>48489</td>\n",
       "      <td>158537</td>\n",
       "      <td>14192</td>\n",
       "      <td>19998</td>\n",
       "    </tr>\n",
       "  </tbody>\n",
       "</table>\n",
       "</div>"
      ],
      "text/plain": [
       "       INCIDENT_NUMBER               OFFENSE_CODE_GROUP  \\\n",
       "count           319050                           319050   \n",
       "unique          282517                               67   \n",
       "top         I162030584  Motor Vehicle Accident Response   \n",
       "freq                13                            37132   \n",
       "\n",
       "                  OFFENSE_DESCRIPTION DISTRICT REPORTING_AREA SHOOTING  \\\n",
       "count                          319050   317285         319050     1019   \n",
       "unique                            244       12            879        1   \n",
       "top     SICK/INJURED/MEDICAL - PERSON       B2                       Y   \n",
       "freq                            18783    49940          20250     1019   \n",
       "\n",
       "       OCCURRED_ON_DATE DAY_OF_WEEK    UCR_PART         STREET  \\\n",
       "count            319050      319050      318960         308179   \n",
       "unique           232566           7           4           4657   \n",
       "top         6/1/17 0:00      Friday  Part Three  WASHINGTON ST   \n",
       "freq                 29       48489      158537          14192   \n",
       "\n",
       "                        Location  \n",
       "count                     319050  \n",
       "unique                     18194  \n",
       "top     (0.00000000, 0.00000000)  \n",
       "freq                       19998  "
      ]
     },
     "execution_count": 15,
     "metadata": {},
     "output_type": "execute_result"
    }
   ],
   "source": [
    "## Summary statistics for non-numerical columns\n",
    "crime.describe(include= 'object')"
   ]
  },
  {
   "cell_type": "code",
   "execution_count": 16,
   "id": "31caa597",
   "metadata": {},
   "outputs": [
    {
     "data": {
      "text/plain": [
       "Index(['INCIDENT_NUMBER', 'OFFENSE_CODE', 'OFFENSE_CODE_GROUP',\n",
       "       'OFFENSE_DESCRIPTION', 'DISTRICT', 'REPORTING_AREA', 'SHOOTING',\n",
       "       'OCCURRED_ON_DATE', 'YEAR', 'MONTH', 'DAY_OF_WEEK', 'HOUR', 'UCR_PART',\n",
       "       'STREET', 'Lat', 'Long', 'Location'],\n",
       "      dtype='object')"
      ]
     },
     "execution_count": 16,
     "metadata": {},
     "output_type": "execute_result"
    }
   ],
   "source": [
    "crime.columns"
   ]
  },
  {
   "cell_type": "code",
   "execution_count": 17,
   "id": "0b096ede",
   "metadata": {},
   "outputs": [
    {
     "data": {
      "text/plain": [
       "Index(['DISTRICT', 'SHOOTING', 'UCR_PART', 'STREET', 'Lat', 'Long'], dtype='object')"
      ]
     },
     "execution_count": 17,
     "metadata": {},
     "output_type": "execute_result"
    }
   ],
   "source": [
    "## check for columns with missing values\n",
    "crime.columns[np.sum(crime.isnull())!= 0]"
   ]
  },
  {
   "cell_type": "code",
   "execution_count": 18,
   "id": "f91faa67",
   "metadata": {},
   "outputs": [
    {
     "name": "stdout",
     "output_type": "stream",
     "text": [
      "INCIDENT_NUMBER has 282517 unique values\n",
      "OFFENSE_CODE has 222 unique values\n",
      "OFFENSE_CODE_GROUP has 67 unique values\n",
      "OFFENSE_DESCRIPTION has 244 unique values\n",
      "DISTRICT has 12 unique values\n",
      "REPORTING_AREA has 879 unique values\n",
      "SHOOTING has 1 unique values\n",
      "OCCURRED_ON_DATE has 232566 unique values\n",
      "YEAR has 4 unique values\n",
      "MONTH has 12 unique values\n",
      "DAY_OF_WEEK has 7 unique values\n",
      "HOUR has 24 unique values\n",
      "UCR_PART has 4 unique values\n",
      "STREET has 4657 unique values\n",
      "Lat has 18178 unique values\n",
      "Long has 18178 unique values\n",
      "Location has 18194 unique values\n"
     ]
    }
   ],
   "source": [
    "# Checking for the number of unique values in each column\n",
    "for col in crime.columns:\n",
    "    unique_count = crime[col].nunique()\n",
    "    print(col + \" has \" + str(unique_count) + \" unique values\")"
   ]
  },
  {
   "cell_type": "markdown",
   "id": "05c9ea7a",
   "metadata": {},
   "source": [
    "# Analysis and Visualizations"
   ]
  },
  {
   "cell_type": "markdown",
   "id": "637379a2",
   "metadata": {},
   "source": [
    "Question 1 - What are the most common crimes in terms of offense group?"
   ]
  },
  {
   "cell_type": "code",
   "execution_count": 19,
   "id": "2b5b3a09",
   "metadata": {},
   "outputs": [
    {
     "data": {
      "text/plain": [
       "OFFENSE_CODE_GROUP\n",
       "Motor Vehicle Accident Response    37132\n",
       "Larceny                            25935\n",
       "Medical Assistance                 23540\n",
       "Investigate Person                 18749\n",
       "Other                              18073\n",
       "Drug Violation                     16545\n",
       "Simple Assault                     15826\n",
       "Vandalism                          15414\n",
       "Verbal Disputes                    13099\n",
       "Towed                              11287\n",
       "Name: count, dtype: int64"
      ]
     },
     "execution_count": 19,
     "metadata": {},
     "output_type": "execute_result"
    }
   ],
   "source": [
    "## Question 1 - What are the most common crimes in terms of offense group?\n",
    "crime.OFFENSE_CODE_GROUP.value_counts()[:10]"
   ]
  },
  {
   "cell_type": "code",
   "execution_count": 20,
   "id": "3c455c6c",
   "metadata": {},
   "outputs": [
    {
     "data": {
      "text/plain": [
       "OFFENSE_CODE_GROUP\n",
       "Motor Vehicle Accident Response    11.638301\n",
       "Larceny                             8.128820\n",
       "Medical Assistance                  7.378154\n",
       "Investigate Person                  5.876508\n",
       "Other                               5.664629\n",
       "Drug Violation                      5.185708\n",
       "Simple Assault                      4.960351\n",
       "Vandalism                           4.831218\n",
       "Verbal Disputes                     4.105626\n",
       "Towed                               3.537690\n",
       "Name: count, dtype: float64"
      ]
     },
     "metadata": {},
     "output_type": "display_data"
    },
    {
     "data": {
      "image/png": "[encoded data removed]",
      "text/plain": [
       "<Figure size 640x480 with 1 Axes>"
      ]
     },
     "metadata": {},
     "output_type": "display_data"
    }
   ],
   "source": [
    "## Creating a bar chart of the Top 10 offense groups \n",
    "offense_group_top_10 = crime.OFFENSE_CODE_GROUP.value_counts()[:10]\n",
    "\n",
    "display(offense_group_top_10 / crime.shape[0] * 100)\n",
    "\n",
    "(offense_group_top_10 / crime.shape[0] * 100).plot(kind='bar');\n",
    "plt.title('Top 10 Offense Groups (as % of all crimes)');"
   ]
  },
  {
   "cell_type": "markdown",
   "id": "01280a4e",
   "metadata": {},
   "source": [
    "Question 2 - What are the most common offence descriptions?"
   ]
  },
  {
   "cell_type": "code",
   "execution_count": 21,
   "id": "696ae932",
   "metadata": {},
   "outputs": [],
   "source": [
    "## Question 2 - What are the most common offence descriptions?"
   ]
  },
  {
   "cell_type": "code",
   "execution_count": 22,
   "id": "71a91503",
   "metadata": {},
   "outputs": [
    {
     "data": {
      "text/plain": [
       "OFFENSE_DESCRIPTION\n",
       "SICK/INJURED/MEDICAL - PERSON            18783\n",
       "INVESTIGATE PERSON                       18753\n",
       "M/V - LEAVING SCENE - PROPERTY DAMAGE    16323\n",
       "VANDALISM                                15153\n",
       "ASSAULT SIMPLE - BATTERY                 14791\n",
       "Name: count, dtype: int64"
      ]
     },
     "execution_count": 22,
     "metadata": {},
     "output_type": "execute_result"
    }
   ],
   "source": [
    "crime.OFFENSE_DESCRIPTION.value_counts()[:5]"
   ]
  },
  {
   "cell_type": "code",
   "execution_count": 1,
   "id": "8e326d03",
   "metadata": {},
   "outputs": [
    {
     "ename": "NameError",
     "evalue": "name 'crime' is not defined",
     "output_type": "error",
     "traceback": [
      "\u001b[0;31m---------------------------------------------------------------------------\u001b[0m",
      "\u001b[0;31mNameError\u001b[0m                                 Traceback (most recent call last)",
      "Cell \u001b[0;32mIn[1], line 1\u001b[0m\n\u001b[0;32m----> 1\u001b[0m offense_descrip_vals \u001b[38;5;241m=\u001b[39m crime\u001b[38;5;241m.\u001b[39mOFFENSE_DESCRIPTION\u001b[38;5;241m.\u001b[39mvalue_counts()[:\u001b[38;5;241m10\u001b[39m]\n\u001b[1;32m      3\u001b[0m (offense_descrip_vals \u001b[38;5;241m/\u001b[39m crime\u001b[38;5;241m.\u001b[39mshape[\u001b[38;5;241m0\u001b[39m] \u001b[38;5;241m*\u001b[39m \u001b[38;5;241m100\u001b[39m)\u001b[38;5;241m.\u001b[39mplot(kind\u001b[38;5;241m=\u001b[39m\u001b[38;5;124m'\u001b[39m\u001b[38;5;124mbar\u001b[39m\u001b[38;5;124m'\u001b[39m)\n\u001b[1;32m      4\u001b[0m plt\u001b[38;5;241m.\u001b[39mtitle(\u001b[38;5;124m'\u001b[39m\u001b[38;5;124mTop 10 Offense Descriptions (as \u001b[39m\u001b[38;5;132;01m% o\u001b[39;00m\u001b[38;5;124mf all crimes) \u001b[39m\u001b[38;5;124m'\u001b[39m)\n",
      "\u001b[0;31mNameError\u001b[0m: name 'crime' is not defined"
     ]
    }
   ],
   "source": [
    "offense_descrip_vals = crime.OFFENSE_DESCRIPTION.value_counts()[:10]\n",
    "\n",
    "(offense_descrip_vals / crime.shape[0] * 100).plot(kind='bar')\n",
    "plt.title('Top 10 Offense Descriptions (as % of all crimes) ')"
   ]
  },
  {
   "cell_type": "markdown",
   "id": "7b3badab",
   "metadata": {},
   "source": [
    "Question 3 - In which year were the most crimes committed?"
   ]
  },
  {
   "cell_type": "code",
   "execution_count": 46,
   "id": "f428d335",
   "metadata": {},
   "outputs": [
    {
     "data": {
      "text/plain": [
       "YEAR\n",
       "2015     53371\n",
       "2016     99110\n",
       "2017    100884\n",
       "2018     65685\n",
       "Name: INCIDENT_NUMBER, dtype: int64"
      ]
     },
     "execution_count": 46,
     "metadata": {},
     "output_type": "execute_result"
    }
   ],
   "source": [
    "## Question 3 - In which year were the most crimes committed?\n",
    "crime.groupby('YEAR').count()['INCIDENT_NUMBER']"
   ]
  },
  {
   "cell_type": "code",
   "execution_count": 47,
   "id": "7486a0bf",
   "metadata": {},
   "outputs": [
    {
     "data": {
      "text/plain": [
       "Text(0.5, 1.0, 'Number of Crimes by Year')"
      ]
     },
     "execution_count": 47,
     "metadata": {},
     "output_type": "execute_result"
    },
    {
     "data": {
      "image/png": "[encoded data removed]",
      "text/plain": [
       "<Figure size 640x480 with 1 Axes>"
      ]
     },
     "metadata": {},
     "output_type": "display_data"
    }
   ],
   "source": [
    "## Visaulize the counts by year\n",
    "crime.groupby('YEAR').count()['INCIDENT_NUMBER'].plot(kind='bar');\n",
    "plt.title('Number of Crimes by Year')"
   ]
  },
  {
   "cell_type": "markdown",
   "id": "13830894",
   "metadata": {},
   "source": [
    "Question 4 - In which days were the most crimes committed?"
   ]
  },
  {
   "cell_type": "code",
   "execution_count": 49,
   "id": "005c0073",
   "metadata": {},
   "outputs": [
    {
     "data": {
      "text/plain": [
       "Index(['INCIDENT_NUMBER', 'OFFENSE_CODE', 'OFFENSE_CODE_GROUP',\n",
       "       'OFFENSE_DESCRIPTION', 'DISTRICT', 'REPORTING_AREA', 'SHOOTING',\n",
       "       'OCCURRED_ON_DATE', 'YEAR', 'MONTH', 'DAY_OF_WEEK', 'HOUR', 'UCR_PART',\n",
       "       'STREET', 'Lat', 'Long', 'Location'],\n",
       "      dtype='object')"
      ]
     },
     "execution_count": 49,
     "metadata": {},
     "output_type": "execute_result"
    }
   ],
   "source": [
    "## Get list of columns again to copy\n",
    "crime.columns"
   ]
  },
  {
   "cell_type": "code",
   "execution_count": null,
   "id": "8bf80472",
   "metadata": {},
   "outputs": [],
   "source": [
    "## Test code to make sure it works before plotting\n",
    "crime.groupby('DAY_OF_WEEK').count()['INCIDENT_NUMBER']"
   ]
  },
  {
   "cell_type": "code",
   "execution_count": 51,
   "id": "a7229243",
   "metadata": {},
   "outputs": [
    {
     "data": {
      "text/plain": [
       "Text(0.5, 1.0, 'Number of Crimes by Day')"
      ]
     },
     "execution_count": 51,
     "metadata": {},
     "output_type": "execute_result"
    },
    {
     "data": {
      "image/png": "[encoded data removed]",
      "text/plain": [
       "<Figure size 640x480 with 1 Axes>"
      ]
     },
     "metadata": {},
     "output_type": "display_data"
    }
   ],
   "source": [
    "## Visaulize the counts by day\n",
    "crime.groupby('DAY_OF_WEEK').count()['INCIDENT_NUMBER'].plot(kind='bar');\n",
    "plt.title('Number of Crimes by Day')"
   ]
  },
  {
   "cell_type": "markdown",
   "id": "899273af",
   "metadata": {},
   "source": [
    "Question 5 - Are there more crimes during specific hours?"
   ]
  },
  {
   "cell_type": "code",
   "execution_count": 53,
   "id": "8c1e2009",
   "metadata": {},
   "outputs": [
    {
     "data": {
      "text/plain": [
       "Text(0.5, 1.0, 'Number of Crimes by Hour')"
      ]
     },
     "execution_count": 53,
     "metadata": {},
     "output_type": "execute_result"
    },
    {
     "data": {
      "image/png": "[encoded data removed]",
      "text/plain": [
       "<Figure size 640x480 with 1 Axes>"
      ]
     },
     "metadata": {},
     "output_type": "display_data"
    }
   ],
   "source": [
    "crime.groupby('HOUR').count()['INCIDENT_NUMBER'].plot(kind='bar');\n",
    "plt.title('Number of Crimes by Hour')"
   ]
  },
  {
   "cell_type": "markdown",
   "id": "ef1d1e69",
   "metadata": {},
   "source": [
    "Question 6 - On what days and during which hours are the most crimes committed?"
   ]
  },
  {
   "cell_type": "code",
   "execution_count": 8,
   "id": "1213d247",
   "metadata": {},
   "outputs": [
    {
     "data": {
      "text/html": [
       "<div>\n",
       "<style scoped>\n",
       "    .dataframe tbody tr th:only-of-type {\n",
       "        vertical-align: middle;\n",
       "    }\n",
       "\n",
       "    .dataframe tbody tr th {\n",
       "        vertical-align: top;\n",
       "    }\n",
       "\n",
       "    .dataframe thead th {\n",
       "        text-align: right;\n",
       "    }\n",
       "</style>\n",
       "<table border=\"1\" class=\"dataframe\">\n",
       "  <thead>\n",
       "    <tr style=\"text-align: right;\">\n",
       "      <th>DAY_OF_WEEK</th>\n",
       "      <th>Friday</th>\n",
       "      <th>Monday</th>\n",
       "      <th>Saturday</th>\n",
       "      <th>Sunday</th>\n",
       "      <th>Thursday</th>\n",
       "      <th>Tuesday</th>\n",
       "      <th>Wednesday</th>\n",
       "    </tr>\n",
       "    <tr>\n",
       "      <th>HOUR</th>\n",
       "      <th></th>\n",
       "      <th></th>\n",
       "      <th></th>\n",
       "      <th></th>\n",
       "      <th></th>\n",
       "      <th></th>\n",
       "      <th></th>\n",
       "    </tr>\n",
       "  </thead>\n",
       "  <tbody>\n",
       "    <tr>\n",
       "      <th>0</th>\n",
       "      <td>2161</td>\n",
       "      <td>2000</td>\n",
       "      <td>2612</td>\n",
       "      <td>2400</td>\n",
       "      <td>2039</td>\n",
       "      <td>1897</td>\n",
       "      <td>1997</td>\n",
       "    </tr>\n",
       "    <tr>\n",
       "      <th>1</th>\n",
       "      <td>1275</td>\n",
       "      <td>1059</td>\n",
       "      <td>1855</td>\n",
       "      <td>2043</td>\n",
       "      <td>1077</td>\n",
       "      <td>1018</td>\n",
       "      <td>942</td>\n",
       "    </tr>\n",
       "    <tr>\n",
       "      <th>2</th>\n",
       "      <td>952</td>\n",
       "      <td>846</td>\n",
       "      <td>1827</td>\n",
       "      <td>1855</td>\n",
       "      <td>774</td>\n",
       "      <td>641</td>\n",
       "      <td>798</td>\n",
       "    </tr>\n",
       "    <tr>\n",
       "      <th>3</th>\n",
       "      <td>532</td>\n",
       "      <td>583</td>\n",
       "      <td>957</td>\n",
       "      <td>1119</td>\n",
       "      <td>526</td>\n",
       "      <td>460</td>\n",
       "      <td>412</td>\n",
       "    </tr>\n",
       "    <tr>\n",
       "      <th>4</th>\n",
       "      <td>441</td>\n",
       "      <td>386</td>\n",
       "      <td>672</td>\n",
       "      <td>704</td>\n",
       "      <td>436</td>\n",
       "      <td>399</td>\n",
       "      <td>370</td>\n",
       "    </tr>\n",
       "    <tr>\n",
       "      <th>5</th>\n",
       "      <td>485</td>\n",
       "      <td>417</td>\n",
       "      <td>478</td>\n",
       "      <td>517</td>\n",
       "      <td>508</td>\n",
       "      <td>462</td>\n",
       "      <td>444</td>\n",
       "    </tr>\n",
       "    <tr>\n",
       "      <th>6</th>\n",
       "      <td>768</td>\n",
       "      <td>709</td>\n",
       "      <td>530</td>\n",
       "      <td>543</td>\n",
       "      <td>866</td>\n",
       "      <td>787</td>\n",
       "      <td>823</td>\n",
       "    </tr>\n",
       "    <tr>\n",
       "      <th>7</th>\n",
       "      <td>1398</td>\n",
       "      <td>1352</td>\n",
       "      <td>1078</td>\n",
       "      <td>758</td>\n",
       "      <td>1405</td>\n",
       "      <td>1418</td>\n",
       "      <td>1441</td>\n",
       "    </tr>\n",
       "    <tr>\n",
       "      <th>8</th>\n",
       "      <td>2041</td>\n",
       "      <td>2046</td>\n",
       "      <td>1516</td>\n",
       "      <td>1123</td>\n",
       "      <td>2037</td>\n",
       "      <td>2145</td>\n",
       "      <td>2135</td>\n",
       "    </tr>\n",
       "    <tr>\n",
       "      <th>9</th>\n",
       "      <td>2299</td>\n",
       "      <td>2148</td>\n",
       "      <td>1812</td>\n",
       "      <td>1457</td>\n",
       "      <td>2325</td>\n",
       "      <td>2322</td>\n",
       "      <td>2377</td>\n",
       "    </tr>\n",
       "    <tr>\n",
       "      <th>10</th>\n",
       "      <td>2669</td>\n",
       "      <td>2432</td>\n",
       "      <td>2064</td>\n",
       "      <td>1778</td>\n",
       "      <td>2496</td>\n",
       "      <td>2415</td>\n",
       "      <td>2493</td>\n",
       "    </tr>\n",
       "    <tr>\n",
       "      <th>11</th>\n",
       "      <td>2552</td>\n",
       "      <td>2375</td>\n",
       "      <td>2042</td>\n",
       "      <td>1802</td>\n",
       "      <td>2548</td>\n",
       "      <td>2529</td>\n",
       "      <td>2600</td>\n",
       "    </tr>\n",
       "    <tr>\n",
       "      <th>12</th>\n",
       "      <td>2862</td>\n",
       "      <td>2746</td>\n",
       "      <td>2588</td>\n",
       "      <td>2135</td>\n",
       "      <td>2821</td>\n",
       "      <td>2682</td>\n",
       "      <td>2845</td>\n",
       "    </tr>\n",
       "    <tr>\n",
       "      <th>13</th>\n",
       "      <td>2499</td>\n",
       "      <td>2479</td>\n",
       "      <td>2223</td>\n",
       "      <td>1980</td>\n",
       "      <td>2577</td>\n",
       "      <td>2493</td>\n",
       "      <td>2595</td>\n",
       "    </tr>\n",
       "    <tr>\n",
       "      <th>14</th>\n",
       "      <td>2601</td>\n",
       "      <td>2485</td>\n",
       "      <td>2378</td>\n",
       "      <td>2029</td>\n",
       "      <td>2536</td>\n",
       "      <td>2555</td>\n",
       "      <td>2605</td>\n",
       "    </tr>\n",
       "    <tr>\n",
       "      <th>15</th>\n",
       "      <td>2566</td>\n",
       "      <td>2438</td>\n",
       "      <td>2084</td>\n",
       "      <td>1918</td>\n",
       "      <td>2531</td>\n",
       "      <td>2506</td>\n",
       "      <td>2479</td>\n",
       "    </tr>\n",
       "    <tr>\n",
       "      <th>16</th>\n",
       "      <td>3073</td>\n",
       "      <td>3030</td>\n",
       "      <td>2445</td>\n",
       "      <td>2216</td>\n",
       "      <td>2974</td>\n",
       "      <td>3080</td>\n",
       "      <td>3053</td>\n",
       "    </tr>\n",
       "    <tr>\n",
       "      <th>17</th>\n",
       "      <td>3252</td>\n",
       "      <td>3254</td>\n",
       "      <td>2555</td>\n",
       "      <td>2377</td>\n",
       "      <td>2931</td>\n",
       "      <td>3241</td>\n",
       "      <td>3153</td>\n",
       "    </tr>\n",
       "    <tr>\n",
       "      <th>18</th>\n",
       "      <td>3010</td>\n",
       "      <td>3089</td>\n",
       "      <td>2528</td>\n",
       "      <td>2326</td>\n",
       "      <td>3033</td>\n",
       "      <td>3218</td>\n",
       "      <td>3098</td>\n",
       "    </tr>\n",
       "    <tr>\n",
       "      <th>19</th>\n",
       "      <td>2565</td>\n",
       "      <td>2606</td>\n",
       "      <td>2301</td>\n",
       "      <td>2114</td>\n",
       "      <td>2510</td>\n",
       "      <td>2768</td>\n",
       "      <td>2724</td>\n",
       "    </tr>\n",
       "    <tr>\n",
       "      <th>20</th>\n",
       "      <td>2307</td>\n",
       "      <td>2319</td>\n",
       "      <td>2132</td>\n",
       "      <td>2109</td>\n",
       "      <td>2349</td>\n",
       "      <td>2369</td>\n",
       "      <td>2265</td>\n",
       "    </tr>\n",
       "    <tr>\n",
       "      <th>21</th>\n",
       "      <td>2091</td>\n",
       "      <td>2003</td>\n",
       "      <td>2077</td>\n",
       "      <td>1902</td>\n",
       "      <td>2070</td>\n",
       "      <td>1925</td>\n",
       "      <td>2043</td>\n",
       "    </tr>\n",
       "    <tr>\n",
       "      <th>22</th>\n",
       "      <td>2160</td>\n",
       "      <td>1634</td>\n",
       "      <td>2113</td>\n",
       "      <td>1728</td>\n",
       "      <td>1795</td>\n",
       "      <td>1757</td>\n",
       "      <td>1739</td>\n",
       "    </tr>\n",
       "    <tr>\n",
       "      <th>23</th>\n",
       "      <td>1936</td>\n",
       "      <td>1243</td>\n",
       "      <td>1951</td>\n",
       "      <td>1380</td>\n",
       "      <td>1492</td>\n",
       "      <td>1296</td>\n",
       "      <td>1298</td>\n",
       "    </tr>\n",
       "  </tbody>\n",
       "</table>\n",
       "</div>"
      ],
      "text/plain": [
       "DAY_OF_WEEK  Friday  Monday  Saturday  Sunday  Thursday  Tuesday  Wednesday\n",
       "HOUR                                                                       \n",
       "0              2161    2000      2612    2400      2039     1897       1997\n",
       "1              1275    1059      1855    2043      1077     1018        942\n",
       "2               952     846      1827    1855       774      641        798\n",
       "3               532     583       957    1119       526      460        412\n",
       "4               441     386       672     704       436      399        370\n",
       "5               485     417       478     517       508      462        444\n",
       "6               768     709       530     543       866      787        823\n",
       "7              1398    1352      1078     758      1405     1418       1441\n",
       "8              2041    2046      1516    1123      2037     2145       2135\n",
       "9              2299    2148      1812    1457      2325     2322       2377\n",
       "10             2669    2432      2064    1778      2496     2415       2493\n",
       "11             2552    2375      2042    1802      2548     2529       2600\n",
       "12             2862    2746      2588    2135      2821     2682       2845\n",
       "13             2499    2479      2223    1980      2577     2493       2595\n",
       "14             2601    2485      2378    2029      2536     2555       2605\n",
       "15             2566    2438      2084    1918      2531     2506       2479\n",
       "16             3073    3030      2445    2216      2974     3080       3053\n",
       "17             3252    3254      2555    2377      2931     3241       3153\n",
       "18             3010    3089      2528    2326      3033     3218       3098\n",
       "19             2565    2606      2301    2114      2510     2768       2724\n",
       "20             2307    2319      2132    2109      2349     2369       2265\n",
       "21             2091    2003      2077    1902      2070     1925       2043\n",
       "22             2160    1634      2113    1728      1795     1757       1739\n",
       "23             1936    1243      1951    1380      1492     1296       1298"
      ]
     },
     "execution_count": 8,
     "metadata": {},
     "output_type": "execute_result"
    }
   ],
   "source": [
    "## Create table of days and counts of crimes\n",
    "crime.groupby(['HOUR', 'DAY_OF_WEEK']).count()['INCIDENT_NUMBER'].unstack()"
   ]
  },
  {
   "cell_type": "code",
   "execution_count": 11,
   "id": "d01f9503",
   "metadata": {},
   "outputs": [],
   "source": [
    "week_and_hours = crime.groupby(['HOUR', 'DAY_OF_WEEK']).count()['INCIDENT_NUMBER'].unstack()"
   ]
  },
  {
   "cell_type": "code",
   "execution_count": 12,
   "id": "bf5f1cb1",
   "metadata": {},
   "outputs": [],
   "source": [
    "## Organize weekdays in order\n",
    "week_and_hours = week_and_hours[['Monday', 'Tuesday', 'Wednesday', 'Thursday', 'Friday', 'Saturday', 'Sunday']]"
   ]
  },
  {
   "cell_type": "code",
   "execution_count": 13,
   "id": "71d9cd41",
   "metadata": {
    "scrolled": true
   },
   "outputs": [
    {
     "data": {
      "image/png": "[encoded data removed]",
      "text/plain": [
       "<Figure size 640x480 with 2 Axes>"
      ]
     },
     "metadata": {},
     "output_type": "display_data"
    }
   ],
   "source": [
    "## Visualize result\n",
    "sns.heatmap(week_and_hours, cmap=sns.cubehelix_palette(as_cmap=True));"
   ]
  },
  {
   "cell_type": "markdown",
   "id": "0f215bff",
   "metadata": {},
   "source": [
    "Question 7 - In which districts were the most crimes committed on a yearly basis?"
   ]
  },
  {
   "cell_type": "code",
   "execution_count": 14,
   "id": "5a5caba6",
   "metadata": {},
   "outputs": [
    {
     "name": "stdout",
     "output_type": "stream",
     "text": [
      "The average number of crime is 6610.583333333333\n"
     ]
    }
   ],
   "source": [
    "\n",
    "## find the average number of crimes by year and disctrict\n",
    "avg_crime = crime.groupby(['YEAR', 'DISTRICT']).count()['INCIDENT_NUMBER'].mean()\n",
    "print(\"The average number of crime is \" + str(avg_crime))"
   ]
  },
  {
   "cell_type": "code",
   "execution_count": 15,
   "id": "73048613",
   "metadata": {},
   "outputs": [
    {
     "data": {
      "text/html": [
       "<div>\n",
       "<style scoped>\n",
       "    .dataframe tbody tr th:only-of-type {\n",
       "        vertical-align: middle;\n",
       "    }\n",
       "\n",
       "    .dataframe tbody tr th {\n",
       "        vertical-align: top;\n",
       "    }\n",
       "\n",
       "    .dataframe thead th {\n",
       "        text-align: right;\n",
       "    }\n",
       "</style>\n",
       "<table border=\"1\" class=\"dataframe\">\n",
       "  <thead>\n",
       "    <tr style=\"text-align: right;\">\n",
       "      <th>DISTRICT</th>\n",
       "      <th>A1</th>\n",
       "      <th>A15</th>\n",
       "      <th>A7</th>\n",
       "      <th>B2</th>\n",
       "      <th>B3</th>\n",
       "      <th>C11</th>\n",
       "      <th>C6</th>\n",
       "      <th>D14</th>\n",
       "      <th>D4</th>\n",
       "      <th>E13</th>\n",
       "      <th>E18</th>\n",
       "      <th>E5</th>\n",
       "    </tr>\n",
       "    <tr>\n",
       "      <th>YEAR</th>\n",
       "      <th></th>\n",
       "      <th></th>\n",
       "      <th></th>\n",
       "      <th></th>\n",
       "      <th></th>\n",
       "      <th></th>\n",
       "      <th></th>\n",
       "      <th></th>\n",
       "      <th></th>\n",
       "      <th></th>\n",
       "      <th></th>\n",
       "      <th></th>\n",
       "    </tr>\n",
       "  </thead>\n",
       "  <tbody>\n",
       "    <tr>\n",
       "      <th>2015</th>\n",
       "      <td>6015</td>\n",
       "      <td>1027</td>\n",
       "      <td>2426</td>\n",
       "      <td>8687</td>\n",
       "      <td>5617</td>\n",
       "      <td>7364</td>\n",
       "      <td>3941</td>\n",
       "      <td>3280</td>\n",
       "      <td>7204</td>\n",
       "      <td>2801</td>\n",
       "      <td>2740</td>\n",
       "      <td>2158</td>\n",
       "    </tr>\n",
       "    <tr>\n",
       "      <th>2016</th>\n",
       "      <td>10923</td>\n",
       "      <td>1986</td>\n",
       "      <td>4130</td>\n",
       "      <td>15706</td>\n",
       "      <td>11145</td>\n",
       "      <td>13603</td>\n",
       "      <td>7073</td>\n",
       "      <td>6279</td>\n",
       "      <td>12953</td>\n",
       "      <td>5559</td>\n",
       "      <td>5223</td>\n",
       "      <td>4017</td>\n",
       "    </tr>\n",
       "    <tr>\n",
       "      <th>2017</th>\n",
       "      <td>11375</td>\n",
       "      <td>2167</td>\n",
       "      <td>4264</td>\n",
       "      <td>15680</td>\n",
       "      <td>11195</td>\n",
       "      <td>13281</td>\n",
       "      <td>7247</td>\n",
       "      <td>6509</td>\n",
       "      <td>13157</td>\n",
       "      <td>5514</td>\n",
       "      <td>5612</td>\n",
       "      <td>4309</td>\n",
       "    </tr>\n",
       "    <tr>\n",
       "      <th>2018</th>\n",
       "      <td>7404</td>\n",
       "      <td>1325</td>\n",
       "      <td>2724</td>\n",
       "      <td>9872</td>\n",
       "      <td>7485</td>\n",
       "      <td>8282</td>\n",
       "      <td>5199</td>\n",
       "      <td>4059</td>\n",
       "      <td>8601</td>\n",
       "      <td>3662</td>\n",
       "      <td>3773</td>\n",
       "      <td>2755</td>\n",
       "    </tr>\n",
       "  </tbody>\n",
       "</table>\n",
       "</div>"
      ],
      "text/plain": [
       "DISTRICT     A1   A15    A7     B2     B3    C11    C6   D14     D4   E13  \\\n",
       "YEAR                                                                        \n",
       "2015       6015  1027  2426   8687   5617   7364  3941  3280   7204  2801   \n",
       "2016      10923  1986  4130  15706  11145  13603  7073  6279  12953  5559   \n",
       "2017      11375  2167  4264  15680  11195  13281  7247  6509  13157  5514   \n",
       "2018       7404  1325  2724   9872   7485   8282  5199  4059   8601  3662   \n",
       "\n",
       "DISTRICT   E18    E5  \n",
       "YEAR                  \n",
       "2015      2740  2158  \n",
       "2016      5223  4017  \n",
       "2017      5612  4309  \n",
       "2018      3773  2755  "
      ]
     },
     "execution_count": 15,
     "metadata": {},
     "output_type": "execute_result"
    }
   ],
   "source": [
    "## Create table of counts of crimes by year and distric\n",
    "year_and_district = crime.groupby(['YEAR', 'DISTRICT']).count()['INCIDENT_NUMBER'].unstack()\n",
    "year_and_district"
   ]
  },
  {
   "cell_type": "code",
   "execution_count": 16,
   "id": "be8d973b",
   "metadata": {},
   "outputs": [
    {
     "data": {
      "text/html": [
       "<style type=\"text/css\">\n",
       "#T_ee01a_row0_col0, #T_ee01a_row0_col1, #T_ee01a_row0_col2, #T_ee01a_row0_col4, #T_ee01a_row0_col6, #T_ee01a_row0_col7, #T_ee01a_row0_col9, #T_ee01a_row0_col10, #T_ee01a_row0_col11, #T_ee01a_row1_col1, #T_ee01a_row1_col2, #T_ee01a_row1_col7, #T_ee01a_row1_col9, #T_ee01a_row1_col10, #T_ee01a_row1_col11, #T_ee01a_row2_col1, #T_ee01a_row2_col2, #T_ee01a_row2_col7, #T_ee01a_row2_col9, #T_ee01a_row2_col10, #T_ee01a_row2_col11, #T_ee01a_row3_col1, #T_ee01a_row3_col2, #T_ee01a_row3_col6, #T_ee01a_row3_col7, #T_ee01a_row3_col9, #T_ee01a_row3_col10, #T_ee01a_row3_col11 {\n",
       "  color: green;\n",
       "}\n",
       "</style>\n",
       "<table id=\"T_ee01a\">\n",
       "  <thead>\n",
       "    <tr>\n",
       "      <th class=\"index_name level0\" >DISTRICT</th>\n",
       "      <th id=\"T_ee01a_level0_col0\" class=\"col_heading level0 col0\" >A1</th>\n",
       "      <th id=\"T_ee01a_level0_col1\" class=\"col_heading level0 col1\" >A15</th>\n",
       "      <th id=\"T_ee01a_level0_col2\" class=\"col_heading level0 col2\" >A7</th>\n",
       "      <th id=\"T_ee01a_level0_col3\" class=\"col_heading level0 col3\" >B2</th>\n",
       "      <th id=\"T_ee01a_level0_col4\" class=\"col_heading level0 col4\" >B3</th>\n",
       "      <th id=\"T_ee01a_level0_col5\" class=\"col_heading level0 col5\" >C11</th>\n",
       "      <th id=\"T_ee01a_level0_col6\" class=\"col_heading level0 col6\" >C6</th>\n",
       "      <th id=\"T_ee01a_level0_col7\" class=\"col_heading level0 col7\" >D14</th>\n",
       "      <th id=\"T_ee01a_level0_col8\" class=\"col_heading level0 col8\" >D4</th>\n",
       "      <th id=\"T_ee01a_level0_col9\" class=\"col_heading level0 col9\" >E13</th>\n",
       "      <th id=\"T_ee01a_level0_col10\" class=\"col_heading level0 col10\" >E18</th>\n",
       "      <th id=\"T_ee01a_level0_col11\" class=\"col_heading level0 col11\" >E5</th>\n",
       "    </tr>\n",
       "    <tr>\n",
       "      <th class=\"index_name level0\" >YEAR</th>\n",
       "      <th class=\"blank col0\" >&nbsp;</th>\n",
       "      <th class=\"blank col1\" >&nbsp;</th>\n",
       "      <th class=\"blank col2\" >&nbsp;</th>\n",
       "      <th class=\"blank col3\" >&nbsp;</th>\n",
       "      <th class=\"blank col4\" >&nbsp;</th>\n",
       "      <th class=\"blank col5\" >&nbsp;</th>\n",
       "      <th class=\"blank col6\" >&nbsp;</th>\n",
       "      <th class=\"blank col7\" >&nbsp;</th>\n",
       "      <th class=\"blank col8\" >&nbsp;</th>\n",
       "      <th class=\"blank col9\" >&nbsp;</th>\n",
       "      <th class=\"blank col10\" >&nbsp;</th>\n",
       "      <th class=\"blank col11\" >&nbsp;</th>\n",
       "    </tr>\n",
       "  </thead>\n",
       "  <tbody>\n",
       "    <tr>\n",
       "      <th id=\"T_ee01a_level0_row0\" class=\"row_heading level0 row0\" >2015</th>\n",
       "      <td id=\"T_ee01a_row0_col0\" class=\"data row0 col0\" >6015</td>\n",
       "      <td id=\"T_ee01a_row0_col1\" class=\"data row0 col1\" >1027</td>\n",
       "      <td id=\"T_ee01a_row0_col2\" class=\"data row0 col2\" >2426</td>\n",
       "      <td id=\"T_ee01a_row0_col3\" class=\"data row0 col3\" >8687</td>\n",
       "      <td id=\"T_ee01a_row0_col4\" class=\"data row0 col4\" >5617</td>\n",
       "      <td id=\"T_ee01a_row0_col5\" class=\"data row0 col5\" >7364</td>\n",
       "      <td id=\"T_ee01a_row0_col6\" class=\"data row0 col6\" >3941</td>\n",
       "      <td id=\"T_ee01a_row0_col7\" class=\"data row0 col7\" >3280</td>\n",
       "      <td id=\"T_ee01a_row0_col8\" class=\"data row0 col8\" >7204</td>\n",
       "      <td id=\"T_ee01a_row0_col9\" class=\"data row0 col9\" >2801</td>\n",
       "      <td id=\"T_ee01a_row0_col10\" class=\"data row0 col10\" >2740</td>\n",
       "      <td id=\"T_ee01a_row0_col11\" class=\"data row0 col11\" >2158</td>\n",
       "    </tr>\n",
       "    <tr>\n",
       "      <th id=\"T_ee01a_level0_row1\" class=\"row_heading level0 row1\" >2016</th>\n",
       "      <td id=\"T_ee01a_row1_col0\" class=\"data row1 col0\" >10923</td>\n",
       "      <td id=\"T_ee01a_row1_col1\" class=\"data row1 col1\" >1986</td>\n",
       "      <td id=\"T_ee01a_row1_col2\" class=\"data row1 col2\" >4130</td>\n",
       "      <td id=\"T_ee01a_row1_col3\" class=\"data row1 col3\" >15706</td>\n",
       "      <td id=\"T_ee01a_row1_col4\" class=\"data row1 col4\" >11145</td>\n",
       "      <td id=\"T_ee01a_row1_col5\" class=\"data row1 col5\" >13603</td>\n",
       "      <td id=\"T_ee01a_row1_col6\" class=\"data row1 col6\" >7073</td>\n",
       "      <td id=\"T_ee01a_row1_col7\" class=\"data row1 col7\" >6279</td>\n",
       "      <td id=\"T_ee01a_row1_col8\" class=\"data row1 col8\" >12953</td>\n",
       "      <td id=\"T_ee01a_row1_col9\" class=\"data row1 col9\" >5559</td>\n",
       "      <td id=\"T_ee01a_row1_col10\" class=\"data row1 col10\" >5223</td>\n",
       "      <td id=\"T_ee01a_row1_col11\" class=\"data row1 col11\" >4017</td>\n",
       "    </tr>\n",
       "    <tr>\n",
       "      <th id=\"T_ee01a_level0_row2\" class=\"row_heading level0 row2\" >2017</th>\n",
       "      <td id=\"T_ee01a_row2_col0\" class=\"data row2 col0\" >11375</td>\n",
       "      <td id=\"T_ee01a_row2_col1\" class=\"data row2 col1\" >2167</td>\n",
       "      <td id=\"T_ee01a_row2_col2\" class=\"data row2 col2\" >4264</td>\n",
       "      <td id=\"T_ee01a_row2_col3\" class=\"data row2 col3\" >15680</td>\n",
       "      <td id=\"T_ee01a_row2_col4\" class=\"data row2 col4\" >11195</td>\n",
       "      <td id=\"T_ee01a_row2_col5\" class=\"data row2 col5\" >13281</td>\n",
       "      <td id=\"T_ee01a_row2_col6\" class=\"data row2 col6\" >7247</td>\n",
       "      <td id=\"T_ee01a_row2_col7\" class=\"data row2 col7\" >6509</td>\n",
       "      <td id=\"T_ee01a_row2_col8\" class=\"data row2 col8\" >13157</td>\n",
       "      <td id=\"T_ee01a_row2_col9\" class=\"data row2 col9\" >5514</td>\n",
       "      <td id=\"T_ee01a_row2_col10\" class=\"data row2 col10\" >5612</td>\n",
       "      <td id=\"T_ee01a_row2_col11\" class=\"data row2 col11\" >4309</td>\n",
       "    </tr>\n",
       "    <tr>\n",
       "      <th id=\"T_ee01a_level0_row3\" class=\"row_heading level0 row3\" >2018</th>\n",
       "      <td id=\"T_ee01a_row3_col0\" class=\"data row3 col0\" >7404</td>\n",
       "      <td id=\"T_ee01a_row3_col1\" class=\"data row3 col1\" >1325</td>\n",
       "      <td id=\"T_ee01a_row3_col2\" class=\"data row3 col2\" >2724</td>\n",
       "      <td id=\"T_ee01a_row3_col3\" class=\"data row3 col3\" >9872</td>\n",
       "      <td id=\"T_ee01a_row3_col4\" class=\"data row3 col4\" >7485</td>\n",
       "      <td id=\"T_ee01a_row3_col5\" class=\"data row3 col5\" >8282</td>\n",
       "      <td id=\"T_ee01a_row3_col6\" class=\"data row3 col6\" >5199</td>\n",
       "      <td id=\"T_ee01a_row3_col7\" class=\"data row3 col7\" >4059</td>\n",
       "      <td id=\"T_ee01a_row3_col8\" class=\"data row3 col8\" >8601</td>\n",
       "      <td id=\"T_ee01a_row3_col9\" class=\"data row3 col9\" >3662</td>\n",
       "      <td id=\"T_ee01a_row3_col10\" class=\"data row3 col10\" >3773</td>\n",
       "      <td id=\"T_ee01a_row3_col11\" class=\"data row3 col11\" >2755</td>\n",
       "    </tr>\n",
       "  </tbody>\n",
       "</table>\n"
      ],
      "text/plain": [
       "<pandas.io.formats.style.Styler at 0x12de22250>"
      ]
     },
     "execution_count": 16,
     "metadata": {},
     "output_type": "execute_result"
    }
   ],
   "source": [
    "## If value is less than the average crime per disctrict, highlight in green\n",
    "\n",
    "def style_negative(v, props=' '):\n",
    "    return props if v < avg_crime else None\n",
    "s2 = year_and_district.style.applymap(style_negative, props='color:green;')\\\n",
    "        .applymap(lambda v: 'opacity: 20%; ' if (v < 0.3) and (v > -0.3) else None)\n",
    "s2"
   ]
  },
  {
   "cell_type": "code",
   "execution_count": null,
   "id": "c1d19e01",
   "metadata": {},
   "outputs": [],
   "source": []
  }
 ],
 "metadata": {
  "kernelspec": {
   "display_name": "Python 3 (ipykernel)",
   "language": "python",
   "name": "python3"
  },
  "language_info": {
   "codemirror_mode": {
    "name": "ipython",
    "version": 3
   },
   "file_extension": ".py",
   "mimetype": "text/x-python",
   "name": "python",
   "nbconvert_exporter": "python",
   "pygments_lexer": "ipython3",
   "version": "3.11.5"
  }
 },
 "nbformat": 4,
 "nbformat_minor": 5
}
